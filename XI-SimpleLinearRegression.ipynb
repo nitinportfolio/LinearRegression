{
 "cells": [
  {
   "cell_type": "markdown",
   "id": "4d1ce168",
   "metadata": {},
   "source": [
    "# Metrices tha we use in Regression\n",
    "- MAE Mean Absolute Error\n",
    "- MSE Mean Squared Error\n",
    "- RMSE - Root Mean Squared Error\n",
    "- R2 Score\n",
    "- Adjusted R2 Score"
   ]
  },
  {
   "cell_type": "code",
   "execution_count": null,
   "id": "7cd4c314",
   "metadata": {},
   "outputs": [],
   "source": []
  }
 ],
 "metadata": {
  "kernelspec": {
   "display_name": "Python 3 (ipykernel)",
   "language": "python",
   "name": "python3"
  },
  "language_info": {
   "codemirror_mode": {
    "name": "ipython",
    "version": 3
   },
   "file_extension": ".py",
   "mimetype": "text/x-python",
   "name": "python",
   "nbconvert_exporter": "python",
   "pygments_lexer": "ipython3",
   "version": "3.10.9"
  }
 },
 "nbformat": 4,
 "nbformat_minor": 5
}
